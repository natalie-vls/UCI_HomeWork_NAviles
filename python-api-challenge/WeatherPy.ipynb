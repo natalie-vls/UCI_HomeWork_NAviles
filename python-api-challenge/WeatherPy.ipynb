{
 "cells": [
  {
   "cell_type": "code",
   "execution_count": null,
   "metadata": {},
   "outputs": [],
   "source": [
    "pip install citipy "
   ]
  },
  {
   "cell_type": "code",
   "execution_count": 1,
   "metadata": {
    "scrolled": true
   },
   "outputs": [],
   "source": [
    "import matplotlib.pyplot as plt\n",
    "import pandas as pd\n",
    "import numpy as np\n",
    "import requests\n",
    "import time\n",
    "from scipy.stats import linregress\n",
    "\n",
    "#import api\n",
    "from api_keys import weather_api_key\n",
    "\n",
    "#import Citipy\n",
    "from citipy import citipy\n",
    "\n",
    "#output file\n",
    "output_Data_File = \"output_data_file/cities.csv\"\n",
    "\n",
    "#define latitude and longitude\n",
    "lat_range = (-90, 90)\n",
    "long_range = (-180, 180)"
   ]
  },
  {
   "cell_type": "markdown",
   "metadata": {},
   "source": [
    "# WeatherPy\n",
    "----\n",
    "\n",
    "#### Note\n",
    "* Instructions have been included for each segment. You do not have to follow them exactly, but they are included to help you think through the steps."
   ]
  },
  {
   "cell_type": "markdown",
   "metadata": {},
   "source": [
    "## Generate Cities List"
   ]
  },
  {
   "cell_type": "code",
   "execution_count": 2,
   "metadata": {},
   "outputs": [
    {
     "data": {
      "text/plain": [
       "618"
      ]
     },
     "execution_count": 2,
     "metadata": {},
     "output_type": "execute_result"
    }
   ],
   "source": [
    "# list for holding lat_long and cities\n",
    "lat_long = []\n",
    "cities = []\n",
    "\n",
    "# create various lat and long combinations\n",
    "lats = np.random.uniform(lat_range[0], lat_range[1], size=1500)\n",
    "longs = np.random.uniform(long_range[0], long_range[1], size=1500)\n",
    "lat_long = zip(lats, longs)\n",
    "\n",
    "# identify nearest city for each lat & long combo\n",
    "for lat_long in lat_long:\n",
    "    city = citipy.nearest_city(lat_long[0], lat_long[1]).city_name\n",
    "    \n",
    "    # if city is unique, then add to our cities list\n",
    "    if city not in cities:\n",
    "        cities.append(city)\n",
    "\n",
    "# print city count to confirm count\n",
    "len(cities) "
   ]
  },
  {
   "cell_type": "markdown",
   "metadata": {},
   "source": [
    "### Perform API Calls\n",
    "* Perform a weather check on each city using a series of successive API calls.\n",
    "* Include a print log of each city as it'sbeing processed (with the city number and city name).\n"
   ]
  },
  {
   "cell_type": "code",
   "execution_count": 3,
   "metadata": {
    "scrolled": true
   },
   "outputs": [
    {
     "name": "stdout",
     "output_type": "stream",
     "text": [
      "Beginning Data Retrieval\n",
      "-------------------------------\n",
      "Processing Record 1 | Chichli\n",
      "Processing Record 2 | Punta Arenas\n",
      "Processing Record 3 | Barrow\n",
      "Processing Record 4 | Dingle\n",
      "Processing Record 5 | Busselton\n",
      "Processing Record 6 | Kaitangata\n",
      "Processing Record 7 | Champerico\n",
      "Processing Record 8 | Arraial do Cabo\n",
      "Processing Record 9 | Havelock\n",
      "Processing Record 10 | Bluff\n",
      "Processing Record 11 | New Norfolk\n",
      "Processing Record 12 | Tiksi\n",
      "Processing Record 13 | Saint-Philippe\n",
      "Processing Record 14 | Klaksvík\n",
      "Processing Record 15 | Yatou\n",
      "Processing Record 16 | Būkān\n",
      "City not found. Skipping...\n",
      "Processing Record 17 | Nanortalik\n",
      "Processing Record 18 | Fukuechō\n",
      "Processing Record 19 | Hermanus\n",
      "Processing Record 20 | Mataura\n",
      "Processing Record 21 | Avera\n",
      "Processing Record 22 | Bredasdorp\n",
      "Processing Record 23 | Carnarvon\n",
      "Processing Record 24 | Cape Town\n",
      "Processing Record 25 | Alto Araguaia\n",
      "Processing Record 26 | Dikson\n",
      "Processing Record 27 | Zvishavane\n",
      "Processing Record 28 | Carson City\n",
      "Processing Record 29 | Ribeira Grande\n",
      "Processing Record 30 | Amapá\n",
      "Processing Record 31 | Juliaca\n",
      "Processing Record 32 | Bilibino\n",
      "Processing Record 33 | Paramonga\n",
      "Processing Record 34 | Castro\n",
      "Processing Record 35 | Cravo Norte\n",
      "City not found. Skipping...\n",
      "Processing Record 36 | Leningradskiy\n",
      "Processing Record 37 | Khatanga\n",
      "Processing Record 38 | Yellowknife\n",
      "Processing Record 39 | Guangzhou\n",
      "Processing Record 40 | Libertador General San Martín\n",
      "Processing Record 41 | Lenger\n",
      "Processing Record 42 | Dhārchula\n",
      "Processing Record 43 | Hilo\n",
      "Processing Record 44 | Kahului\n",
      "Processing Record 45 | Agadez\n",
      "Processing Record 46 | Bubaque\n",
      "Processing Record 47 | Jalu\n",
      "City not found. Skipping...\n",
      "Processing Record 48 | Port Alfred\n",
      "City not found. Skipping...\n",
      "Processing Record 49 | Lebu\n",
      "Processing Record 50 | Strezhevoy\n",
      "Processing Record 51 | Ushuaia\n",
      "Processing Record 52 | Honningsvåg\n",
      "Processing Record 53 | Chervone\n",
      "Processing Record 54 | Rikitea\n",
      "Processing Record 55 | Saldanha\n",
      "Processing Record 56 | Hithadhoo\n",
      "Processing Record 57 | Coyhaique\n",
      "Processing Record 58 | Itarema\n",
      "Processing Record 59 | Souillac\n",
      "City not found. Skipping...\n",
      "Processing Record 60 | Quatre Cocos\n",
      "City not found. Skipping...\n",
      "Processing Record 61 | Upernavik\n",
      "Processing Record 62 | Clyde River\n",
      "Processing Record 63 | Wanning\n",
      "Processing Record 64 | Rzhaksa\n",
      "Processing Record 65 | Tasiilaq\n",
      "Processing Record 66 | Faanui\n",
      "Processing Record 67 | Kabarnet\n",
      "Processing Record 68 | Toamasina\n",
      "Processing Record 69 | Dudinka\n",
      "Processing Record 70 | São José da Coroa Grande\n",
      "City not found. Skipping...\n",
      "City not found. Skipping...\n",
      "Processing Record 71 | Vaini\n",
      "Processing Record 72 | Camacha\n",
      "Processing Record 73 | Vardø\n",
      "Processing Record 74 | Arrondissement de Bastia\n",
      "Processing Record 75 | Albany\n",
      "Processing Record 76 | Vanavara\n",
      "Processing Record 77 | Karratha\n",
      "Processing Record 78 | Saint Anthony\n",
      "City not found. Skipping...\n",
      "Processing Record 79 | Ust-Kuyga\n",
      "Processing Record 80 | Salalah\n",
      "Processing Record 81 | Chokurdakh\n",
      "Processing Record 82 | Avarua\n",
      "Processing Record 83 | Ternate\n",
      "Processing Record 84 | Ambon City\n",
      "Processing Record 85 | Inhambane\n",
      "City not found. Skipping...\n",
      "Processing Record 86 | Kapaa\n",
      "Processing Record 87 | Hobart\n",
      "Processing Record 88 | Pacific Grove\n",
      "Processing Record 89 | George Town\n",
      "Processing Record 90 | Kentau\n",
      "Processing Record 91 | Sherlovaya Gora\n",
      "City not found. Skipping...\n",
      "Processing Record 92 | Raychikhinsk\n",
      "Processing Record 93 | San Jose\n",
      "Processing Record 94 | Poli\n",
      "Processing Record 95 | Ol'ga\n",
      "Processing Record 96 | Puerto Ayora\n",
      "Processing Record 97 | Hong Kong\n",
      "Processing Record 98 | Muisne\n",
      "Processing Record 99 | Ryabovo\n",
      "Processing Record 100 | Tilichiki\n",
      "Processing Record 101 | Southbridge\n",
      "Processing Record 102 | Jamestown\n",
      "Processing Record 103 | Bethel\n",
      "Processing Record 104 | Peravurani\n",
      "Processing Record 105 | Kavieng\n",
      "Processing Record 106 | Mar del Plata\n",
      "Processing Record 107 | Atuona\n",
      "Processing Record 108 | Vila Velha\n",
      "Processing Record 109 | Khani\n",
      "Processing Record 110 | Yangi Marg`ilon\n",
      "Processing Record 111 | Atar\n",
      "City not found. Skipping...\n",
      "Processing Record 112 | Tuatapere\n",
      "Processing Record 113 | Teya\n",
      "Processing Record 114 | Tokur\n",
      "Processing Record 115 | Coos Bay\n",
      "Processing Record 116 | Norrtälje\n",
      "Processing Record 117 | Oak Harbor\n",
      "Processing Record 118 | Conceição do Araguaia\n",
      "Processing Record 119 | San Mateo del Mar\n",
      "City not found. Skipping...\n",
      "Processing Record 120 | Izberbash\n",
      "Processing Record 121 | Qaanaaq\n",
      "Processing Record 122 | Grand Gaube\n",
      "Processing Record 123 | Peniche\n",
      "Processing Record 124 | Zhangjiakou\n",
      "Processing Record 125 | San Andrés\n",
      "Processing Record 126 | Nyimba\n",
      "Processing Record 127 | Mehamn\n",
      "City not found. Skipping...\n",
      "Processing Record 128 | Panshi\n",
      "Processing Record 129 | Kiryat Gat\n",
      "Processing Record 130 | Lagoa\n",
      "Processing Record 131 | Tocopilla\n",
      "Processing Record 132 | Saskylakh\n",
      "Processing Record 133 | Halden\n",
      "Processing Record 134 | Eureka\n",
      "Processing Record 135 | Filingué\n",
      "Processing Record 136 | Thompson\n",
      "Processing Record 137 | Talnakh\n",
      "Processing Record 138 | Port Hardy\n",
      "Processing Record 139 | Bambous Virieux\n",
      "Processing Record 140 | Vila Franca do Campo\n",
      "Processing Record 141 | Vermillion\n",
      "Processing Record 142 | Tuktoyaktuk\n",
      "Processing Record 143 | Voh\n",
      "Processing Record 144 | Svetlaya\n",
      "Processing Record 145 | Inhumas\n",
      "Processing Record 146 | Shache\n",
      "Processing Record 147 | Moberly\n",
      "Processing Record 148 | Severo-Kuril'sk\n",
      "Processing Record 149 | Kumul\n",
      "Processing Record 150 | Sidi Ali\n",
      "Processing Record 151 | Esperance\n",
      "Processing Record 152 | Kulebaki\n",
      "City not found. Skipping...\n",
      "Processing Record 153 | Longyearbyen\n",
      "City not found. Skipping...\n",
      "Processing Record 154 | Kismayo\n",
      "Processing Record 155 | Poso\n",
      "Processing Record 156 | Novy Urengoy\n",
      "Processing Record 157 | Duluth\n",
      "Processing Record 158 | Lüderitz\n",
      "City not found. Skipping...\n",
      "Processing Record 159 | Yelovo\n",
      "Processing Record 160 | Pangnirtung\n",
      "Processing Record 161 | Kīhei\n",
      "Processing Record 162 | Hohhot\n",
      "Processing Record 163 | Novoagansk\n",
      "Processing Record 164 | Lorengau\n",
      "Processing Record 165 | Iqaluit\n",
      "Processing Record 166 | Belmonte\n",
      "City not found. Skipping...\n",
      "Processing Record 167 | Yerbogachën\n",
      "City not found. Skipping...\n",
      "Processing Record 168 | Port Elizabeth\n",
      "City not found. Skipping...\n",
      "Processing Record 169 | Nakamura\n",
      "Processing Record 170 | Prince Rupert\n",
      "Processing Record 171 | Isangel\n",
      "Processing Record 172 | Goshen\n",
      "Processing Record 173 | Narsaq\n",
      "Processing Record 174 | Touros\n",
      "Processing Record 175 | Chapais\n",
      "Processing Record 176 | Asaba\n",
      "Processing Record 177 | Vestmannaeyjar\n",
      "Processing Record 178 | Port-Gentil\n",
      "Processing Record 179 | Hobyo\n",
      "Processing Record 180 | Mahébourg\n",
      "Processing Record 181 | Asău\n",
      "Processing Record 182 | Shingū\n",
      "Processing Record 183 | Cardston\n",
      "Processing Record 184 | Ilulissat\n",
      "Processing Record 185 | Santa Rosalía\n",
      "City not found. Skipping...\n",
      "Processing Record 186 | Saint-Pierre\n",
      "Processing Record 187 | Aubenas\n",
      "Processing Record 188 | Yumen\n",
      "Processing Record 189 | Cabo San Lucas\n",
      "Processing Record 190 | Dunedin\n",
      "Processing Record 191 | Morondava\n",
      "Processing Record 192 | Butaritari\n",
      "Processing Record 193 | Awjilah\n",
      "Processing Record 194 | Mahabalipuram\n",
      "Processing Record 195 | Xingcheng\n",
      "Processing Record 196 | Bac Lieu\n",
      "Processing Record 197 | Iracoubo\n",
      "Processing Record 198 | Angoche\n",
      "Processing Record 199 | Cidreira\n",
      "Processing Record 200 | Ojinaga\n",
      "Processing Record 201 | Cherskiy\n",
      "Processing Record 202 | Georgiyevka\n",
      "Processing Record 203 | Turinsk\n",
      "City not found. Skipping...\n",
      "Processing Record 204 | Sucúa\n",
      "Processing Record 205 | Sangar\n",
      "Processing Record 206 | La Ciotat\n",
      "Processing Record 207 | Andapa\n",
      "Processing Record 208 | Najrān\n",
      "Processing Record 209 | Songea\n",
      "Processing Record 210 | Kuvshinovo\n",
      "Processing Record 211 | Kingsburg\n",
      "Processing Record 212 | North Bend\n",
      "City not found. Skipping...\n",
      "Processing Record 213 | Beyneu\n",
      "Processing Record 214 | Nemuro\n",
      "City not found. Skipping...\n",
      "Processing Record 215 | Saint-Augustin\n",
      "Processing Record 216 | Dingcheng\n",
      "Processing Record 217 | Ostrovnoy\n",
      "Processing Record 218 | Panama City\n",
      "Processing Record 219 | Kandrian\n",
      "City not found. Skipping...\n",
      "Processing Record 220 | Togur\n",
      "Processing Record 221 | Kavaratti\n",
      "Processing Record 222 | Adrar\n",
      "Processing Record 223 | Katangli\n",
      "Processing Record 224 | Sitka\n",
      "Processing Record 225 | Vyazemskiy\n"
     ]
    },
    {
     "name": "stdout",
     "output_type": "stream",
     "text": [
      "Processing Record 226 | Tynset\n",
      "Processing Record 227 | Meadow Lake\n",
      "Processing Record 228 | Alenquer\n",
      "Processing Record 229 | St. George's\n",
      "Processing Record 230 | Baykit\n",
      "Processing Record 231 | Lavrentiya\n",
      "Processing Record 232 | Hasaki\n",
      "Processing Record 233 | Sambava\n",
      "Processing Record 234 | Padina\n",
      "Processing Record 235 | Kushiro\n",
      "Processing Record 236 | Nahrin\n",
      "Processing Record 237 | Miyako\n",
      "Processing Record 238 | Łapy\n",
      "Processing Record 239 | Tombouctou\n",
      "Processing Record 240 | Durango\n",
      "Processing Record 241 | Chumikan\n",
      "Processing Record 242 | Berlevåg\n",
      "Processing Record 243 | Odienné\n",
      "Processing Record 244 | Ivanava\n",
      "Processing Record 245 | Buenos Aires\n",
      "Processing Record 246 | Nikolskoye\n",
      "Processing Record 247 | Dumas\n",
      "Processing Record 248 | Mango\n",
      "Processing Record 249 | Montepuez\n",
      "Processing Record 250 | Pevek\n",
      "Processing Record 251 | Farafangana\n",
      "Processing Record 252 | Hofn\n",
      "City not found. Skipping...\n",
      "Processing Record 253 | Fort-Shevchenko\n",
      "Processing Record 254 | East London\n",
      "Processing Record 255 | Luga\n",
      "Processing Record 256 | Hamilton\n",
      "Processing Record 257 | Thunder Bay\n",
      "Processing Record 258 | Aklavik\n",
      "Processing Record 259 | Alice Springs\n",
      "Processing Record 260 | Charter Township of Clinton\n",
      "Processing Record 261 | Nouadhibou\n",
      "Processing Record 262 | Codrington\n",
      "Processing Record 263 | Dakar\n",
      "City not found. Skipping...\n",
      "Processing Record 264 | Gboko\n",
      "Processing Record 265 | Teguise\n",
      "Processing Record 266 | Dzhebariki-Khaya\n",
      "Processing Record 267 | Ambanja\n",
      "City not found. Skipping...\n",
      "Processing Record 268 | Encruzilhada do Sul\n",
      "Processing Record 269 | Fairbanks\n",
      "Processing Record 270 | Bonnyville\n",
      "Processing Record 271 | Ambovombe\n",
      "Processing Record 272 | Ortigueira\n",
      "Processing Record 273 | Alofi\n",
      "Processing Record 274 | Chengzhong\n",
      "Processing Record 275 | Padang\n",
      "Processing Record 276 | Hillsboro\n",
      "Processing Record 277 | Omsukchan\n",
      "Processing Record 278 | Rock Sound\n",
      "City not found. Skipping...\n",
      "Processing Record 279 | Ugoofaaru\n",
      "Processing Record 280 | Gizo Government Station\n",
      "Processing Record 281 | Trincomalee\n",
      "Processing Record 282 | Kutum\n",
      "Processing Record 283 | Borogontsy\n",
      "Processing Record 284 | Meulaboh\n",
      "Processing Record 285 | Galle\n",
      "Processing Record 286 | Provideniya\n",
      "Processing Record 287 | Arrondissement de Brive-la-Gaillarde\n",
      "Processing Record 288 | Gazli\n",
      "Processing Record 289 | Carutapera\n",
      "Processing Record 290 | Tura\n",
      "Processing Record 291 | Oneonta\n",
      "Processing Record 292 | Commerce\n",
      "Processing Record 293 | Singaparna\n",
      "Processing Record 294 | Marrakesh\n",
      "Processing Record 295 | Kolyvan'\n",
      "Processing Record 296 | Novorudnyy\n",
      "Processing Record 297 | Kousséri\n",
      "Processing Record 298 | Tank\n",
      "Processing Record 299 | Grenfell\n",
      "Processing Record 300 | Qena\n",
      "Processing Record 301 | Opuwo\n",
      "Processing Record 302 | Henties Bay\n",
      "Processing Record 303 | Nuuk\n",
      "Processing Record 304 | Bathsheba\n",
      "Processing Record 305 | Kaeo\n",
      "City not found. Skipping...\n",
      "Processing Record 306 | Thinadhoo\n",
      "Processing Record 307 | Okhotsk\n",
      "City not found. Skipping...\n",
      "Processing Record 308 | Broome\n",
      "Processing Record 309 | Goderich\n",
      "Processing Record 310 | Palmer\n",
      "Processing Record 311 | Sioux Lookout\n",
      "Processing Record 312 | Caluquembe\n",
      "Processing Record 313 | Vestmanna\n",
      "Processing Record 314 | Zhigansk\n",
      "City not found. Skipping...\n",
      "Processing Record 315 | Nautla\n",
      "Processing Record 316 | Yermakovskoye\n",
      "Processing Record 317 | Nampula\n",
      "Processing Record 318 | Chui\n",
      "Processing Record 319 | Barra de Tecoanapa\n",
      "Processing Record 320 | Sayyan\n",
      "Processing Record 321 | Ponta do Sol\n",
      "Processing Record 322 | College\n",
      "Processing Record 323 | Kamenka\n",
      "City not found. Skipping...\n",
      "Processing Record 324 | Kamaishi\n",
      "Processing Record 325 | Coquimbo\n",
      "Processing Record 326 | Laguna\n",
      "City not found. Skipping...\n",
      "Processing Record 327 | Río Gallegos\n",
      "Processing Record 328 | Maraã\n",
      "Processing Record 329 | Fuling\n",
      "Processing Record 330 | Ahipara\n",
      "Processing Record 331 | Darhan\n",
      "Processing Record 332 | Merauke\n",
      "Processing Record 333 | Caravelas\n",
      "Processing Record 334 | Humaitá\n",
      "Processing Record 335 | Guerrero Negro\n",
      "Processing Record 336 | El Sauzal de Rodríguez\n",
      "Processing Record 337 | Narasannapeta\n",
      "City not found. Skipping...\n",
      "Processing Record 338 | Port Macquarie\n",
      "Processing Record 339 | Puerto Quijarro\n",
      "Processing Record 340 | New Iberia\n",
      "Processing Record 341 | Sechura\n",
      "Processing Record 342 | Saint Paul Harbor\n",
      "Processing Record 343 | Starogard Gdański\n",
      "Processing Record 344 | Melfi\n",
      "Processing Record 345 | Susanville\n",
      "Processing Record 346 | Kitgum\n",
      "City not found. Skipping...\n",
      "Processing Record 347 | Hambantota\n",
      "Processing Record 348 | Mathbaria\n",
      "Processing Record 349 | Fortuna\n",
      "Processing Record 350 | Krasnaya Gora\n",
      "City not found. Skipping...\n",
      "Processing Record 351 | Grindavik\n",
      "Processing Record 352 | Torbay\n",
      "Processing Record 353 | Bilma\n",
      "Processing Record 354 | Katsuura\n",
      "Processing Record 355 | Jequitinhonha\n",
      "Processing Record 356 | Makakilo City\n",
      "City not found. Skipping...\n",
      "Processing Record 357 | Palauig\n",
      "Processing Record 358 | High Prairie\n",
      "Processing Record 359 | Nara\n",
      "Processing Record 360 | Alipur\n",
      "Processing Record 361 | Oriximiná\n",
      "Processing Record 362 | Bay City\n",
      "Processing Record 363 | Kalmar\n",
      "Processing Record 364 | Sam Chuk\n",
      "Processing Record 365 | Nsanje\n",
      "Processing Record 366 | Pilar\n",
      "Processing Record 367 | Kindu\n",
      "Processing Record 368 | Thai Binh\n",
      "City not found. Skipping...\n",
      "Processing Record 369 | Conde\n",
      "Processing Record 370 | Lagan\n",
      "Processing Record 371 | Alta Floresta\n",
      "Processing Record 372 | Young\n",
      "Processing Record 373 | Santa Rosa\n",
      "Processing Record 374 | Luena\n",
      "Processing Record 375 | Santa Cruz de la Sierra\n",
      "Processing Record 376 | Kingston\n",
      "City not found. Skipping...\n",
      "Processing Record 377 | Kruisfontein\n",
      "Processing Record 378 | Nanzhou\n",
      "Processing Record 379 | Sisimiut\n",
      "Processing Record 380 | Sorong\n",
      "Processing Record 381 | Afyonkarahisar\n",
      "Processing Record 382 | San Quintín\n",
      "Processing Record 383 | Moerai\n",
      "Processing Record 384 | Mittagong\n",
      "Processing Record 385 | Huilong\n",
      "Processing Record 386 | Aksarka\n",
      "Processing Record 387 | Qaqortoq\n",
      "Processing Record 388 | Roald\n",
      "Processing Record 389 | Lata\n",
      "City not found. Skipping...\n",
      "Processing Record 390 | Polokwane\n",
      "City not found. Skipping...\n",
      "Processing Record 391 | Emerald\n",
      "City not found. Skipping...\n",
      "Processing Record 392 | High Level\n",
      "Processing Record 393 | Fort Nelson\n",
      "Processing Record 394 | Liliongan\n",
      "Processing Record 395 | Taoudenni\n",
      "Processing Record 396 | Örnsköldsvik\n",
      "Processing Record 397 | Bengkulu\n",
      "Processing Record 398 | Geraldton\n",
      "City not found. Skipping...\n",
      "Processing Record 399 | Tondano\n",
      "Processing Record 400 | Tahoua\n",
      "Processing Record 401 | Kitob\n",
      "Processing Record 402 | Atchison\n",
      "Processing Record 403 | Oistins\n",
      "Processing Record 404 | Mount Gambier\n",
      "Processing Record 405 | Ngama\n",
      "Processing Record 406 | Cullinan\n",
      "City not found. Skipping...\n",
      "Processing Record 407 | Angoram\n",
      "City not found. Skipping...\n",
      "Processing Record 408 | Porto Walter\n",
      "Processing Record 409 | Kybartai\n",
      "Processing Record 410 | Erdenet\n",
      "Processing Record 411 | Mount Isa\n",
      "Processing Record 412 | Kovdor\n",
      "Processing Record 413 | Aswān\n",
      "Processing Record 414 | Bulawayo\n",
      "Processing Record 415 | Constitución\n",
      "Processing Record 416 | Haines Junction\n",
      "Processing Record 417 | Tezu\n",
      "Processing Record 418 | Santa Cruz de La Palma\n",
      "Processing Record 419 | Bandarbeyla\n",
      "Processing Record 420 | Anito\n",
      "Processing Record 421 | Assiut\n",
      "City not found. Skipping...\n",
      "Processing Record 422 | Gamba\n",
      "Processing Record 423 | Olafsvik\n",
      "Processing Record 424 | Bandar\n",
      "Processing Record 425 | Ulladulla\n",
      "Processing Record 426 | Kununurra\n",
      "Processing Record 427 | Port Moresby\n",
      "Processing Record 428 | Seymchan\n",
      "Processing Record 429 | Adré\n",
      "Processing Record 430 | Berezniki\n",
      "Processing Record 431 | Morón\n",
      "Processing Record 432 | Namatanai\n",
      "Processing Record 433 | Yeppoon\n",
      "Processing Record 434 | Anicuns\n",
      "Processing Record 435 | Beyla\n",
      "Processing Record 436 | Marabba\n",
      "Processing Record 437 | Rocha\n",
      "Processing Record 438 | Amazar\n",
      "Processing Record 439 | Cockburn Town\n",
      "City not found. Skipping...\n",
      "Processing Record 440 | Margate\n",
      "Processing Record 441 | Prince Albert\n",
      "Processing Record 442 | Bud\n",
      "Processing Record 443 | Sabha\n",
      "Processing Record 444 | Cooma\n",
      "Processing Record 445 | Pisco\n",
      "Processing Record 446 | Cho Dok\n",
      "Processing Record 447 | Mackay\n",
      "Processing Record 448 | Nurota\n",
      "Processing Record 449 | Rong Kwang\n",
      "Processing Record 450 | Half Moon Bay\n"
     ]
    },
    {
     "name": "stdout",
     "output_type": "stream",
     "text": [
      "Processing Record 451 | Port Augusta\n",
      "Processing Record 452 | Beloha\n",
      "Processing Record 453 | Maceió\n",
      "Processing Record 454 | Alekseyevskoye\n",
      "Processing Record 455 | Kashgar\n",
      "Processing Record 456 | Airai\n",
      "Processing Record 457 | Kurya\n",
      "Processing Record 458 | Esim\n",
      "Processing Record 459 | Muros\n",
      "City not found. Skipping...\n",
      "Processing Record 460 | Deputatsky\n",
      "Processing Record 461 | Laas\n",
      "Processing Record 462 | Westport\n",
      "Processing Record 463 | Aasiaat\n",
      "Processing Record 464 | Mazagão\n",
      "Processing Record 465 | Havøysund\n",
      "Processing Record 466 | Port Lincoln\n",
      "Processing Record 467 | Lakes Entrance\n",
      "Processing Record 468 | Bagdarin\n",
      "City not found. Skipping...\n",
      "Processing Record 469 | Betanzos\n",
      "Processing Record 470 | Broken Hill\n",
      "Processing Record 471 | Otavi\n",
      "Processing Record 472 | Nesna\n",
      "Processing Record 473 | Santa Fe\n",
      "Processing Record 474 | Zhigalovo\n",
      "Processing Record 475 | Takhtamygda\n",
      "Processing Record 476 | Kazygurt\n",
      "City not found. Skipping...\n",
      "Processing Record 477 | Omboué\n",
      "Processing Record 478 | Noumea\n",
      "Processing Record 479 | Chone\n",
      "Processing Record 480 | Riyadh\n",
      "Processing Record 481 | Casablanca\n",
      "Processing Record 482 | Mnogovershinnyy\n",
      "Processing Record 483 | Olinda\n",
      "Processing Record 484 | Saint George\n",
      "Processing Record 485 | Sibolga\n",
      "Processing Record 486 | Sabang\n",
      "Processing Record 487 | Prado\n",
      "City not found. Skipping...\n",
      "Processing Record 488 | Port Blair\n",
      "Processing Record 489 | Taltal\n",
      "City not found. Skipping...\n",
      "Processing Record 490 | Talara\n",
      "Processing Record 491 | Isabela\n",
      "Processing Record 492 | Stenløse\n",
      "Processing Record 493 | Digora\n",
      "Processing Record 494 | Bahía Honda\n",
      "Processing Record 495 | Hjelset\n",
      "Processing Record 496 | Ovalle\n",
      "Processing Record 497 | La Rioja\n",
      "Processing Record 498 | Ayan\n",
      "Processing Record 499 | Jumla\n",
      "Processing Record 500 | Sakata\n",
      "Processing Record 501 | Norman Wells\n",
      "City not found. Skipping...\n",
      "City not found. Skipping...\n",
      "Processing Record 502 | Mossamedes\n",
      "Processing Record 503 | Mpika\n",
      "Processing Record 504 | Apastovo\n",
      "Processing Record 505 | Purificación\n",
      "Processing Record 506 | Sembakung\n",
      "Processing Record 507 | São Félix do Xingu\n",
      "Processing Record 508 | Konya Province\n",
      "Processing Record 509 | Mersing\n",
      "Processing Record 510 | Tariba\n",
      "Processing Record 511 | Krasnosel'kup\n",
      "Processing Record 512 | Chernyshevskiy\n",
      "Processing Record 513 | Charters Towers\n",
      "Processing Record 514 | Ngunguru\n",
      "Processing Record 515 | Naze\n",
      "Processing Record 516 | Marawi\n",
      "Processing Record 517 | Māngrol\n",
      "Processing Record 518 | Uberlândia\n",
      "Processing Record 519 | Kysyl-Syr\n",
      "Processing Record 520 | Karwar\n",
      "Processing Record 521 | Saint-Joseph\n",
      "Processing Record 522 | Baracoa\n",
      "Processing Record 523 | Beringovskiy\n",
      "Processing Record 524 | Tselinnoye\n",
      "Processing Record 525 | Evensk\n",
      "Processing Record 526 | Benguela\n",
      "Processing Record 527 | Puerto Baquerizo Moreno\n",
      "Processing Record 528 | Sandwick\n",
      "Processing Record 529 | Okara\n",
      "Processing Record 530 | Lumeje\n",
      "Processing Record 531 | Verkhnyaya Sinyachikha\n",
      "Processing Record 532 | Salta\n",
      "Processing Record 533 | Partizanskoye\n",
      "Processing Record 534 | Carstairs\n",
      "Processing Record 535 | Lázaro Cárdenas\n",
      "Processing Record 536 | Mezhova\n",
      "Processing Record 537 | Athabasca\n",
      "Processing Record 538 | Shestakovo\n",
      "City not found. Skipping...\n",
      "Processing Record 539 | Arinos\n",
      "Processing Record 540 | Yaan\n",
      "Processing Record 541 | Te Anau\n",
      "Processing Record 542 | Sefophe\n",
      "Processing Record 543 | Oktyabr'skoye\n",
      "Processing Record 544 | Burns Lake\n",
      "Processing Record 545 | Pemangkat\n",
      "Processing Record 546 | Terrace\n",
      "Processing Record 547 | Abhā\n",
      "Processing Record 548 | Yamada\n",
      "Processing Record 549 | Januária\n",
      "Processing Record 550 | Lompoc\n",
      "Processing Record 551 | Saint-Louis\n",
      "Processing Record 552 | Volkach\n",
      "Processing Record 553 | Yashkul'\n",
      "Processing Record 554 | Kawalu\n",
      "Processing Record 555 | Santa Vitória do Palmar\n",
      "Processing Record 556 | Dubrovka\n",
      "Processing Record 557 | La Ronge\n",
      "Processing Record 558 | Yeniseysk\n",
      "Processing Record 559 | Skeldon\n",
      "Processing Record 560 | Itháki\n",
      "Processing Record 561 | Jacareacanga\n",
      "Processing Record 562 | Ciudad Bolivar\n"
     ]
    }
   ],
   "source": [
    "url = \"http://api.openweathermap.org/data/2.5/weather?units=Imperial&APPID=25233509c15b1972d6ea3e4be953184a\" \n",
    "\n",
    "city_data = []\n",
    "\n",
    "# create empty lists to append API data into lists \n",
    "city_name = []\n",
    "cloudiness = []\n",
    "country = []\n",
    "date = []\n",
    "humidity = []\n",
    "lat = []\n",
    "lng = []\n",
    "max_temp = []\n",
    "wind_speed = []\n",
    "\n",
    "# start call counter \n",
    "record = 1\n",
    "\n",
    "# log file print statement\n",
    "print(f\"Beginning Data Retrieval\")\n",
    "print(f\"-------------------------------\")\n",
    "\n",
    "# loop through cities in city list \n",
    "for city in cities:  \n",
    "        \n",
    "    try: \n",
    "        response = requests.get(f\"{url}&q={city}\").json() \n",
    "        city_name.append(response[\"name\"])\n",
    "        cloudiness.append(response[\"clouds\"][\"all\"])\n",
    "        country.append(response[\"sys\"][\"country\"])\n",
    "        date.append(response[\"dt\"])\n",
    "        humidity.append(response[\"main\"][\"humidity\"])\n",
    "        max_temp.append(response[\"main\"][\"temp_max\"])\n",
    "        lat.append(response[\"coord\"][\"lat\"])\n",
    "        lng.append(response[\"coord\"][\"lon\"])\n",
    "        wind_speed.append(response[\"wind\"][\"speed\"])\n",
    "        city_record = response[\"name\"]\n",
    "        print(f\"Processing Record {record} | {city_record}\")\n",
    "\n",
    "# increase counter by one \n",
    "        record= record + 1\n",
    "        \n",
    "        \n",
    "# if no record is found, then skip to next call\n",
    "    except:\n",
    "        print(\"City not found. Skipping...\")\n",
    "    continue\n",
    "        "
   ]
  },
  {
   "cell_type": "markdown",
   "metadata": {},
   "source": [
    "### Convert Raw Data to DataFrame\n",
    "* Export the city data into a .csv.\n",
    "* Display the DataFrame"
   ]
  },
  {
   "cell_type": "code",
   "execution_count": 4,
   "metadata": {},
   "outputs": [
    {
     "data": {
      "text/plain": [
       "City          562\n",
       "Lat           562\n",
       "Lng           562\n",
       "Max Temp      562\n",
       "Humidity      562\n",
       "Cloudiness    562\n",
       "Wind Speed    562\n",
       "Country       562\n",
       "Date          562\n",
       "dtype: int64"
      ]
     },
     "execution_count": 4,
     "metadata": {},
     "output_type": "execute_result"
    }
   ],
   "source": [
    "weather_df=pd.DataFrame({\"City\": city_name, \"Lat\": lat, \"Lng\": lng, \n",
    "                      \"Max Temp\": max_temp, \"Humidity\": humidity, \n",
    "                      \"Cloudiness\":cloudiness, \"Wind Speed\": wind_speed,\n",
    "                     \"Country\": country, \"Date\": date})\n",
    "\n",
    "weather_df.head(5)\n",
    "\n",
    "# create dataframe\n",
    "weather_data = pd.DataFrame(weather_df) \n",
    "weather_data.count()"
   ]
  },
  {
   "cell_type": "code",
   "execution_count": 8,
   "metadata": {
    "scrolled": true
   },
   "outputs": [
    {
     "data": {
      "text/html": [
       "<div>\n",
       "<style scoped>\n",
       "    .dataframe tbody tr th:only-of-type {\n",
       "        vertical-align: middle;\n",
       "    }\n",
       "\n",
       "    .dataframe tbody tr th {\n",
       "        vertical-align: top;\n",
       "    }\n",
       "\n",
       "    .dataframe thead th {\n",
       "        text-align: right;\n",
       "    }\n",
       "</style>\n",
       "<table border=\"1\" class=\"dataframe\">\n",
       "  <thead>\n",
       "    <tr style=\"text-align: right;\">\n",
       "      <th></th>\n",
       "      <th>City</th>\n",
       "      <th>Lat</th>\n",
       "      <th>Lng</th>\n",
       "      <th>Max Temp</th>\n",
       "      <th>Humidity</th>\n",
       "      <th>Cloudiness</th>\n",
       "      <th>Wind Speed</th>\n",
       "      <th>Country</th>\n",
       "      <th>Date</th>\n",
       "    </tr>\n",
       "  </thead>\n",
       "  <tbody>\n",
       "    <tr>\n",
       "      <th>0</th>\n",
       "      <td>Chichli</td>\n",
       "      <td>22.8333</td>\n",
       "      <td>78.8167</td>\n",
       "      <td>71.58</td>\n",
       "      <td>20</td>\n",
       "      <td>0</td>\n",
       "      <td>1.03</td>\n",
       "      <td>IN</td>\n",
       "      <td>1614786819</td>\n",
       "    </tr>\n",
       "    <tr>\n",
       "      <th>1</th>\n",
       "      <td>Punta Arenas</td>\n",
       "      <td>-53.1500</td>\n",
       "      <td>-70.9167</td>\n",
       "      <td>57.20</td>\n",
       "      <td>54</td>\n",
       "      <td>40</td>\n",
       "      <td>6.91</td>\n",
       "      <td>CL</td>\n",
       "      <td>1614786518</td>\n",
       "    </tr>\n",
       "    <tr>\n",
       "      <th>2</th>\n",
       "      <td>Barrow</td>\n",
       "      <td>71.2906</td>\n",
       "      <td>-156.7887</td>\n",
       "      <td>-14.80</td>\n",
       "      <td>76</td>\n",
       "      <td>90</td>\n",
       "      <td>12.66</td>\n",
       "      <td>US</td>\n",
       "      <td>1614786550</td>\n",
       "    </tr>\n",
       "    <tr>\n",
       "      <th>3</th>\n",
       "      <td>Dingle</td>\n",
       "      <td>10.9995</td>\n",
       "      <td>122.6711</td>\n",
       "      <td>75.20</td>\n",
       "      <td>88</td>\n",
       "      <td>18</td>\n",
       "      <td>6.46</td>\n",
       "      <td>PH</td>\n",
       "      <td>1614786567</td>\n",
       "    </tr>\n",
       "    <tr>\n",
       "      <th>4</th>\n",
       "      <td>Busselton</td>\n",
       "      <td>-33.6500</td>\n",
       "      <td>115.3333</td>\n",
       "      <td>71.01</td>\n",
       "      <td>88</td>\n",
       "      <td>100</td>\n",
       "      <td>5.01</td>\n",
       "      <td>AU</td>\n",
       "      <td>1614786407</td>\n",
       "    </tr>\n",
       "  </tbody>\n",
       "</table>\n",
       "</div>"
      ],
      "text/plain": [
       "           City      Lat       Lng  Max Temp  Humidity  Cloudiness  \\\n",
       "0       Chichli  22.8333   78.8167     71.58        20           0   \n",
       "1  Punta Arenas -53.1500  -70.9167     57.20        54          40   \n",
       "2        Barrow  71.2906 -156.7887    -14.80        76          90   \n",
       "3        Dingle  10.9995  122.6711     75.20        88          18   \n",
       "4     Busselton -33.6500  115.3333     71.01        88         100   \n",
       "\n",
       "   Wind Speed Country        Date  \n",
       "0        1.03      IN  1614786819  \n",
       "1        6.91      CL  1614786518  \n",
       "2       12.66      US  1614786550  \n",
       "3        6.46      PH  1614786567  \n",
       "4        5.01      AU  1614786407  "
      ]
     },
     "execution_count": 8,
     "metadata": {},
     "output_type": "execute_result"
    }
   ],
   "source": [
    "weather_df.to_csv(\"Output_CSV/cities.csv\", index = False)\n",
    "weather_data.head()"
   ]
  },
  {
   "cell_type": "markdown",
   "metadata": {},
   "source": [
    "## Inspect the data and remove the cities where the humidity > 100%.\n",
    "----\n",
    "Skip this step if there are no cities that have humidity > 100%. "
   ]
  },
  {
   "cell_type": "code",
   "execution_count": 9,
   "metadata": {},
   "outputs": [
    {
     "data": {
      "text/html": [
       "<div>\n",
       "<style scoped>\n",
       "    .dataframe tbody tr th:only-of-type {\n",
       "        vertical-align: middle;\n",
       "    }\n",
       "\n",
       "    .dataframe tbody tr th {\n",
       "        vertical-align: top;\n",
       "    }\n",
       "\n",
       "    .dataframe thead th {\n",
       "        text-align: right;\n",
       "    }\n",
       "</style>\n",
       "<table border=\"1\" class=\"dataframe\">\n",
       "  <thead>\n",
       "    <tr style=\"text-align: right;\">\n",
       "      <th></th>\n",
       "      <th>Lat</th>\n",
       "      <th>Lng</th>\n",
       "      <th>Max Temp</th>\n",
       "      <th>Humidity</th>\n",
       "      <th>Cloudiness</th>\n",
       "      <th>Wind Speed</th>\n",
       "      <th>Date</th>\n",
       "    </tr>\n",
       "  </thead>\n",
       "  <tbody>\n",
       "    <tr>\n",
       "      <th>count</th>\n",
       "      <td>562.000000</td>\n",
       "      <td>562.000000</td>\n",
       "      <td>562.000000</td>\n",
       "      <td>562.000000</td>\n",
       "      <td>562.000000</td>\n",
       "      <td>562.000000</td>\n",
       "      <td>5.620000e+02</td>\n",
       "    </tr>\n",
       "    <tr>\n",
       "      <th>mean</th>\n",
       "      <td>20.634519</td>\n",
       "      <td>18.747985</td>\n",
       "      <td>53.126779</td>\n",
       "      <td>69.613879</td>\n",
       "      <td>51.715302</td>\n",
       "      <td>8.375178</td>\n",
       "      <td>1.614787e+09</td>\n",
       "    </tr>\n",
       "    <tr>\n",
       "      <th>std</th>\n",
       "      <td>33.451835</td>\n",
       "      <td>90.648167</td>\n",
       "      <td>31.969440</td>\n",
       "      <td>22.022238</td>\n",
       "      <td>38.860472</td>\n",
       "      <td>6.240432</td>\n",
       "      <td>1.733082e+02</td>\n",
       "    </tr>\n",
       "    <tr>\n",
       "      <th>min</th>\n",
       "      <td>-54.800000</td>\n",
       "      <td>-175.200000</td>\n",
       "      <td>-42.050000</td>\n",
       "      <td>1.000000</td>\n",
       "      <td>0.000000</td>\n",
       "      <td>0.810000</td>\n",
       "      <td>1.614786e+09</td>\n",
       "    </tr>\n",
       "    <tr>\n",
       "      <th>25%</th>\n",
       "      <td>-8.219100</td>\n",
       "      <td>-58.642600</td>\n",
       "      <td>35.802500</td>\n",
       "      <td>60.000000</td>\n",
       "      <td>10.500000</td>\n",
       "      <td>3.835000</td>\n",
       "      <td>1.614787e+09</td>\n",
       "    </tr>\n",
       "    <tr>\n",
       "      <th>50%</th>\n",
       "      <td>24.866650</td>\n",
       "      <td>25.553300</td>\n",
       "      <td>63.455000</td>\n",
       "      <td>75.000000</td>\n",
       "      <td>51.000000</td>\n",
       "      <td>6.810000</td>\n",
       "      <td>1.614787e+09</td>\n",
       "    </tr>\n",
       "    <tr>\n",
       "      <th>75%</th>\n",
       "      <td>49.783700</td>\n",
       "      <td>99.507300</td>\n",
       "      <td>78.800000</td>\n",
       "      <td>85.000000</td>\n",
       "      <td>90.000000</td>\n",
       "      <td>11.495000</td>\n",
       "      <td>1.614787e+09</td>\n",
       "    </tr>\n",
       "    <tr>\n",
       "      <th>max</th>\n",
       "      <td>78.218600</td>\n",
       "      <td>179.316700</td>\n",
       "      <td>103.100000</td>\n",
       "      <td>100.000000</td>\n",
       "      <td>100.000000</td>\n",
       "      <td>49.480000</td>\n",
       "      <td>1.614787e+09</td>\n",
       "    </tr>\n",
       "  </tbody>\n",
       "</table>\n",
       "</div>"
      ],
      "text/plain": [
       "              Lat         Lng    Max Temp    Humidity  Cloudiness  Wind Speed  \\\n",
       "count  562.000000  562.000000  562.000000  562.000000  562.000000  562.000000   \n",
       "mean    20.634519   18.747985   53.126779   69.613879   51.715302    8.375178   \n",
       "std     33.451835   90.648167   31.969440   22.022238   38.860472    6.240432   \n",
       "min    -54.800000 -175.200000  -42.050000    1.000000    0.000000    0.810000   \n",
       "25%     -8.219100  -58.642600   35.802500   60.000000   10.500000    3.835000   \n",
       "50%     24.866650   25.553300   63.455000   75.000000   51.000000    6.810000   \n",
       "75%     49.783700   99.507300   78.800000   85.000000   90.000000   11.495000   \n",
       "max     78.218600  179.316700  103.100000  100.000000  100.000000   49.480000   \n",
       "\n",
       "               Date  \n",
       "count  5.620000e+02  \n",
       "mean   1.614787e+09  \n",
       "std    1.733082e+02  \n",
       "min    1.614786e+09  \n",
       "25%    1.614787e+09  \n",
       "50%    1.614787e+09  \n",
       "75%    1.614787e+09  \n",
       "max    1.614787e+09  "
      ]
     },
     "execution_count": 9,
     "metadata": {},
     "output_type": "execute_result"
    }
   ],
   "source": [
    "weather_df[\"Humidity\"].max()\n",
    "\n",
    "weather_df = weather_df[weather_df[\"Humidity\"]<= 100]\n",
    "\n",
    "weather_df.describe()"
   ]
  },
  {
   "cell_type": "code",
   "execution_count": 10,
   "metadata": {},
   "outputs": [
    {
     "data": {
      "text/plain": [
       "Int64Index([], dtype='int64')"
      ]
     },
     "execution_count": 10,
     "metadata": {},
     "output_type": "execute_result"
    }
   ],
   "source": [
    "#  Get the indices of cities that have humidity over 100%.\n",
    "indices = weather_df[weather_df['Humidity']>100].index\n",
    "indices"
   ]
  },
  {
   "cell_type": "code",
   "execution_count": 11,
   "metadata": {},
   "outputs": [
    {
     "data": {
      "text/html": [
       "<div>\n",
       "<style scoped>\n",
       "    .dataframe tbody tr th:only-of-type {\n",
       "        vertical-align: middle;\n",
       "    }\n",
       "\n",
       "    .dataframe tbody tr th {\n",
       "        vertical-align: top;\n",
       "    }\n",
       "\n",
       "    .dataframe thead th {\n",
       "        text-align: right;\n",
       "    }\n",
       "</style>\n",
       "<table border=\"1\" class=\"dataframe\">\n",
       "  <thead>\n",
       "    <tr style=\"text-align: right;\">\n",
       "      <th></th>\n",
       "      <th>City</th>\n",
       "      <th>Lat</th>\n",
       "      <th>Lng</th>\n",
       "      <th>Max Temp</th>\n",
       "      <th>Humidity</th>\n",
       "      <th>Cloudiness</th>\n",
       "      <th>Wind Speed</th>\n",
       "      <th>Country</th>\n",
       "      <th>Date</th>\n",
       "    </tr>\n",
       "  </thead>\n",
       "  <tbody>\n",
       "    <tr>\n",
       "      <th>0</th>\n",
       "      <td>Chichli</td>\n",
       "      <td>22.8333</td>\n",
       "      <td>78.8167</td>\n",
       "      <td>71.58</td>\n",
       "      <td>20</td>\n",
       "      <td>0</td>\n",
       "      <td>1.03</td>\n",
       "      <td>IN</td>\n",
       "      <td>1614786819</td>\n",
       "    </tr>\n",
       "    <tr>\n",
       "      <th>1</th>\n",
       "      <td>Punta Arenas</td>\n",
       "      <td>-53.1500</td>\n",
       "      <td>-70.9167</td>\n",
       "      <td>57.20</td>\n",
       "      <td>54</td>\n",
       "      <td>40</td>\n",
       "      <td>6.91</td>\n",
       "      <td>CL</td>\n",
       "      <td>1614786518</td>\n",
       "    </tr>\n",
       "    <tr>\n",
       "      <th>2</th>\n",
       "      <td>Barrow</td>\n",
       "      <td>71.2906</td>\n",
       "      <td>-156.7887</td>\n",
       "      <td>-14.80</td>\n",
       "      <td>76</td>\n",
       "      <td>90</td>\n",
       "      <td>12.66</td>\n",
       "      <td>US</td>\n",
       "      <td>1614786550</td>\n",
       "    </tr>\n",
       "    <tr>\n",
       "      <th>3</th>\n",
       "      <td>Dingle</td>\n",
       "      <td>10.9995</td>\n",
       "      <td>122.6711</td>\n",
       "      <td>75.20</td>\n",
       "      <td>88</td>\n",
       "      <td>18</td>\n",
       "      <td>6.46</td>\n",
       "      <td>PH</td>\n",
       "      <td>1614786567</td>\n",
       "    </tr>\n",
       "    <tr>\n",
       "      <th>4</th>\n",
       "      <td>Busselton</td>\n",
       "      <td>-33.6500</td>\n",
       "      <td>115.3333</td>\n",
       "      <td>71.01</td>\n",
       "      <td>88</td>\n",
       "      <td>100</td>\n",
       "      <td>5.01</td>\n",
       "      <td>AU</td>\n",
       "      <td>1614786407</td>\n",
       "    </tr>\n",
       "  </tbody>\n",
       "</table>\n",
       "</div>"
      ],
      "text/plain": [
       "           City      Lat       Lng  Max Temp  Humidity  Cloudiness  \\\n",
       "0       Chichli  22.8333   78.8167     71.58        20           0   \n",
       "1  Punta Arenas -53.1500  -70.9167     57.20        54          40   \n",
       "2        Barrow  71.2906 -156.7887    -14.80        76          90   \n",
       "3        Dingle  10.9995  122.6711     75.20        88          18   \n",
       "4     Busselton -33.6500  115.3333     71.01        88         100   \n",
       "\n",
       "   Wind Speed Country        Date  \n",
       "0        1.03      IN  1614786819  \n",
       "1        6.91      CL  1614786518  \n",
       "2       12.66      US  1614786550  \n",
       "3        6.46      PH  1614786567  \n",
       "4        5.01      AU  1614786407  "
      ]
     },
     "execution_count": 11,
     "metadata": {},
     "output_type": "execute_result"
    }
   ],
   "source": [
    "# Make a new DataFrame equal to the city data to drop all humidity outliers by index.\n",
    "# Passing \"inplace=False\" will make a copy of the city_data DataFrame, which we call \"clean_city_data\".\n",
    "clean_weather_df = weather_data.drop(indices, inplace=False)\n",
    "clean_weather_df.head()"
   ]
  },
  {
   "cell_type": "markdown",
   "metadata": {},
   "source": [
    "## Plotting the Data\n",
    "* Use proper labeling of the plots using plot titles (including date of analysis) and axes labels.\n",
    "* Save the plotted figures as .pngs."
   ]
  },
  {
   "cell_type": "markdown",
   "metadata": {},
   "source": [
    "## Latitude vs. Temperature Plot"
   ]
  },
  {
   "cell_type": "code",
   "execution_count": 12,
   "metadata": {
    "scrolled": true
   },
   "outputs": [
    {
     "data": {
      "image/png": "[encoded data removed]",
      "text/plain": [
       "<Figure size 432x288 with 1 Axes>"
      ]
     },
     "metadata": {
      "needs_background": "light"
     },
     "output_type": "display_data"
    }
   ],
   "source": [
    "latitude=weather_df[\"Lat\"]\n",
    "Max_Temp=weather_df[\"Max Temp\"]\n",
    "\n",
    "#create scatter plot\n",
    "plt.scatter(latitude, Max_Temp, marker=\"o\", facecolors=\"blue\", edgecolors=\"black\")\n",
    "\n",
    "#format\n",
    "plt.grid()\n",
    "plt.title(\"City Latitude vs Max Temperature\")\n",
    "plt.xlabel(\"City Latitude\")\n",
    "plt.ylabel(\"Max Temperature (F)\")\n",
    "\n",
    "#save\n",
    "plt.savefig(\"Plots/LatitudevsTempPlot.png\")\n",
    "plt.show()\n"
   ]
  },
  {
   "cell_type": "markdown",
   "metadata": {},
   "source": [
    "## Latitude vs. Humidity Plot"
   ]
  },
  {
   "cell_type": "code",
   "execution_count": 13,
   "metadata": {},
   "outputs": [
    {
     "data": {
      "image/png": "[encoded data removed]",
      "text/plain": [
       "<Figure size 432x288 with 1 Axes>"
      ]
     },
     "metadata": {
      "needs_background": "light"
     },
     "output_type": "display_data"
    }
   ],
   "source": [
    "Humidity_data=weather_df[\"Humidity\"]\n",
    "\n",
    "#create scatter plot\n",
    "plt.scatter(latitude, Humidity_data, marker=\"o\", facecolors=\"blue\", edgecolors=\"black\")\n",
    "\n",
    "#format\n",
    "plt.grid()\n",
    "plt.title(\"Latitude vs Humidity\")\n",
    "plt.xlabel(\"Latitude\")\n",
    "plt.ylabel(\"Humidity (%)\")\n",
    "\n",
    "#save\n",
    "plt.savefig(\"Plots/LatitudevsHumidity.png\")\n",
    "plt.show()"
   ]
  },
  {
   "cell_type": "markdown",
   "metadata": {},
   "source": [
    "## Latitude vs. Cloudiness Plot"
   ]
  },
  {
   "cell_type": "code",
   "execution_count": 15,
   "metadata": {},
   "outputs": [
    {
     "data": {
      "image/png": "[encoded data removed]",
      "text/plain": [
       "<Figure size 432x288 with 1 Axes>"
      ]
     },
     "metadata": {
      "needs_background": "light"
     },
     "output_type": "display_data"
    }
   ],
   "source": [
    "Cloud_Data=weather_df[\"Cloudiness\"]\n",
    "\n",
    "#make scatter plot\n",
    "plt.scatter(latitude, Cloud_Data, marker=\"o\", facecolors=\"blue\", edgecolors=\"black\")\n",
    "\n",
    "#formatting\n",
    "plt.grid()\n",
    "plt.title(\"Latitude vs Cloudiness\")\n",
    "plt.xlabel(\"Latitude\")\n",
    "plt.ylabel(\"Cloudiness (%)\")\n",
    "\n",
    "#save\n",
    "plt.savefig(\"Plots/LatitudevsCloudiness.png\")\n",
    "plt.show()"
   ]
  },
  {
   "cell_type": "markdown",
   "metadata": {},
   "source": [
    "## Latitude vs. Wind Speed Plot"
   ]
  },
  {
   "cell_type": "code",
   "execution_count": 16,
   "metadata": {},
   "outputs": [
    {
     "data": {
      "image/png": "[encoded data removed]",
      "text/plain": [
       "<Figure size 432x288 with 1 Axes>"
      ]
     },
     "metadata": {
      "needs_background": "light"
     },
     "output_type": "display_data"
    }
   ],
   "source": [
    "Wind_Speed_Data=weather_df[\"Wind Speed\"]\n",
    "\n",
    "#create scatter plot\n",
    "plt.scatter(latitude, Wind_Speed_Data, marker=\"o\", facecolors=\"blue\", edgecolors=\"black\")\n",
    "\n",
    "#format\n",
    "plt.grid()\n",
    "plt.title(\"Latitude vs Wind Speed\")\n",
    "plt.xlabel(\"Latitude\")\n",
    "plt.ylabel(\"Wind Speed (mph)\")\n",
    "\n",
    "#save\n",
    "plt.savefig(\"Plots/LatitudevsWindSpeed.png\")\n",
    "plt.show()"
   ]
  },
  {
   "cell_type": "markdown",
   "metadata": {},
   "source": [
    "## Linear Regression"
   ]
  },
  {
   "cell_type": "code",
   "execution_count": 17,
   "metadata": {},
   "outputs": [],
   "source": [
    "# Create Northern and Southern Hemisphere DataFrames\n",
    "Northern_df=weather_df[weather_df[\"Lat\"]>0]\n",
    "Southern_df=weather_df[weather_df[\"Lat\"]<0]"
   ]
  },
  {
   "cell_type": "markdown",
   "metadata": {},
   "source": [
    "####  Northern Hemisphere - Max Temp vs. Latitude Linear Regression"
   ]
  },
  {
   "cell_type": "code",
   "execution_count": 18,
   "metadata": {},
   "outputs": [
    {
     "data": {
      "image/png": "[encoded data removed]",
      "text/plain": [
       "<Figure size 432x288 with 1 Axes>"
      ]
     },
     "metadata": {
      "needs_background": "light"
     },
     "output_type": "display_data"
    },
    {
     "name": "stdout",
     "output_type": "stream",
     "text": [
      "The r-squared is: 0.7469803979232881\n"
     ]
    }
   ],
   "source": [
    "def plot_linear_regression(x,y,title,text_coordinates):\n",
    "    (slope, intercept,rvalue, pvalue, stderr)= linregress(x,y)\n",
    "    regress_values= x*slope + intercept\n",
    "    line_eq=f\"y={round(slope,2)}x + {round(intercept,2)}\"\n",
    "    plt.scatter(x, y, marker=\"o\", facecolors=\"blue\", edgecolors=\"black\")\n",
    "    plt.plot(x, regress_values, color='red')\n",
    "    plt.annotate(line_eq, text_coordinates, color='red', fontsize= 18)\n",
    "    plt.xlabel(\"Latitude\")\n",
    "    plt.ylabel(title)\n",
    "    plt.show()\n",
    "    print(f\"The r-squared is: {rvalue**2}\")\n",
    "    \n",
    "plot_linear_regression(Northern_df[\"Lat\"], Northern_df[\"Max Temp\"], \"Max Temp\",(10,20))"
   ]
  },
  {
   "cell_type": "markdown",
   "metadata": {},
   "source": [
    "####  Southern Hemisphere - Max Temp vs. Latitude Linear Regression"
   ]
  },
  {
   "cell_type": "code",
   "execution_count": 19,
   "metadata": {},
   "outputs": [
    {
     "data": {
      "image/png": "[encoded data removed]",
      "text/plain": [
       "<Figure size 432x288 with 1 Axes>"
      ]
     },
     "metadata": {
      "needs_background": "light"
     },
     "output_type": "display_data"
    },
    {
     "name": "stdout",
     "output_type": "stream",
     "text": [
      "The r-squared is: 0.3754785615320946\n"
     ]
    }
   ],
   "source": [
    "plot_linear_regression(Southern_df[\"Lat\"], Southern_df[\"Max Temp\"], \"Max Temp\",(-55,85))"
   ]
  },
  {
   "cell_type": "markdown",
   "metadata": {},
   "source": [
    "####  Northern Hemisphere - Humidity (%) vs. Latitude Linear Regression"
   ]
  },
  {
   "cell_type": "code",
   "execution_count": 20,
   "metadata": {},
   "outputs": [
    {
     "data": {
      "image/png": "[encoded data removed]",
      "text/plain": [
       "<Figure size 432x288 with 1 Axes>"
      ]
     },
     "metadata": {
      "needs_background": "light"
     },
     "output_type": "display_data"
    },
    {
     "name": "stdout",
     "output_type": "stream",
     "text": [
      "The r-squared is: 0.1455916607901312\n"
     ]
    }
   ],
   "source": [
    "plot_linear_regression(Northern_df[\"Lat\"], Northern_df[\"Humidity\"], \"Max Temp\",(50,12))"
   ]
  },
  {
   "cell_type": "markdown",
   "metadata": {},
   "source": [
    "####  Southern Hemisphere - Humidity (%) vs. Latitude Linear Regression"
   ]
  },
  {
   "cell_type": "code",
   "execution_count": 21,
   "metadata": {},
   "outputs": [
    {
     "data": {
      "image/png": "[encoded data removed]",
      "text/plain": [
       "<Figure size 432x288 with 1 Axes>"
      ]
     },
     "metadata": {
      "needs_background": "light"
     },
     "output_type": "display_data"
    },
    {
     "name": "stdout",
     "output_type": "stream",
     "text": [
      "The r-squared is: 0.019390615709390345\n"
     ]
    }
   ],
   "source": [
    "plot_linear_regression(Southern_df[\"Lat\"], Southern_df[\"Humidity\"], \"Max Temp\",(-55,20))"
   ]
  },
  {
   "cell_type": "markdown",
   "metadata": {},
   "source": [
    "####  Northern Hemisphere - Cloudiness (%) vs. Latitude Linear Regression"
   ]
  },
  {
   "cell_type": "code",
   "execution_count": 22,
   "metadata": {},
   "outputs": [
    {
     "data": {
      "image/png": "[encoded data removed]",
      "text/plain": [
       "<Figure size 432x288 with 1 Axes>"
      ]
     },
     "metadata": {
      "needs_background": "light"
     },
     "output_type": "display_data"
    },
    {
     "name": "stdout",
     "output_type": "stream",
     "text": [
      "The r-squared is: 0.07641464456017998\n"
     ]
    }
   ],
   "source": [
    "plot_linear_regression(Northern_df[\"Lat\"], Northern_df[\"Cloudiness\"], \"Max Temp\",(50,33))"
   ]
  },
  {
   "cell_type": "markdown",
   "metadata": {},
   "source": [
    "####  Southern Hemisphere - Cloudiness (%) vs. Latitude Linear Regression"
   ]
  },
  {
   "cell_type": "code",
   "execution_count": 23,
   "metadata": {},
   "outputs": [
    {
     "data": {
      "image/png": "[encoded data removed]",
      "text/plain": [
       "<Figure size 432x288 with 1 Axes>"
      ]
     },
     "metadata": {
      "needs_background": "light"
     },
     "output_type": "display_data"
    },
    {
     "name": "stdout",
     "output_type": "stream",
     "text": [
      "The r-squared is: 0.0645483206469417\n"
     ]
    }
   ],
   "source": [
    "plot_linear_regression(Southern_df[\"Lat\"], Southern_df[\"Cloudiness\"], \"Max Temp\",(-56,25))"
   ]
  },
  {
   "cell_type": "markdown",
   "metadata": {},
   "source": [
    "####  Northern Hemisphere - Wind Speed (mph) vs. Latitude Linear Regression"
   ]
  },
  {
   "cell_type": "code",
   "execution_count": 24,
   "metadata": {},
   "outputs": [
    {
     "data": {
      "image/png": "[encoded data removed]",
      "text/plain": [
       "<Figure size 432x288 with 1 Axes>"
      ]
     },
     "metadata": {
      "needs_background": "light"
     },
     "output_type": "display_data"
    },
    {
     "name": "stdout",
     "output_type": "stream",
     "text": [
      "The r-squared is: 0.012261273735744732\n"
     ]
    }
   ],
   "source": [
    "plot_linear_regression(Northern_df[\"Lat\"], Northern_df[\"Wind Speed\"], \"Max Temp\",(5,30))"
   ]
  },
  {
   "cell_type": "markdown",
   "metadata": {},
   "source": [
    "####  Southern Hemisphere - Wind Speed (mph) vs. Latitude Linear Regression"
   ]
  },
  {
   "cell_type": "code",
   "execution_count": 25,
   "metadata": {},
   "outputs": [
    {
     "data": {
      "image/png": "[encoded data removed]",
      "text/plain": [
       "<Figure size 432x288 with 1 Axes>"
      ]
     },
     "metadata": {
      "needs_background": "light"
     },
     "output_type": "display_data"
    },
    {
     "name": "stdout",
     "output_type": "stream",
     "text": [
      "The r-squared is: 0.013085769555272636\n"
     ]
    }
   ],
   "source": [
    "plot_linear_regression(Southern_df[\"Lat\"], Southern_df[\"Wind Speed\"], \"Max Temp\",(-56,13))"
   ]
  },
  {
   "cell_type": "code",
   "execution_count": null,
   "metadata": {},
   "outputs": [],
   "source": []
  }
 ],
 "metadata": {
  "anaconda-cloud": {},
  "kernel_info": {
   "name": "python3"
  },
  "kernelspec": {
   "display_name": "Python 3",
   "language": "python",
   "name": "python3"
  },
  "language_info": {
   "codemirror_mode": {
    "name": "ipython",
    "version": 3
   },
   "file_extension": ".py",
   "mimetype": "text/x-python",
   "name": "python",
   "nbconvert_exporter": "python",
   "pygments_lexer": "ipython3",
   "version": "3.8.5"
  },
  "latex_envs": {
   "LaTeX_envs_menu_present": true,
   "autoclose": false,
   "autocomplete": true,
   "bibliofile": "biblio.bib",
   "cite_by": "apalike",
   "current_citInitial": 1,
   "eqLabelWithNumbers": true,
   "eqNumInitial": 1,
   "hotkeys": {
    "equation": "Ctrl-E",
    "itemize": "Ctrl-I"
   },
   "labels_anchors": false,
   "latex_user_defs": false,
   "report_style_numbering": false,
   "user_envs_cfg": false
  },
  "nteract": {
   "version": "0.12.3"
  }
 },
 "nbformat": 4,
 "nbformat_minor": 2
}
